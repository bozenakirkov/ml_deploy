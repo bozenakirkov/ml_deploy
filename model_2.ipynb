{
 "cells": [
  {
   "cell_type": "code",
   "execution_count": 1,
   "id": "b296a88d",
   "metadata": {},
   "outputs": [],
   "source": [
    "import numpy as np\n",
    "import tensorflow as tf\n",
    "import os"
   ]
  },
  {
   "cell_type": "markdown",
   "id": "7a915110",
   "metadata": {},
   "source": [
    "# load data"
   ]
  },
  {
   "cell_type": "code",
   "execution_count": 2,
   "id": "ce4c1c97",
   "metadata": {},
   "outputs": [],
   "source": [
    "train, test_val = tf.keras.datasets.mnist.load_data()"
   ]
  },
  {
   "cell_type": "markdown",
   "id": "a84dfde0",
   "metadata": {},
   "source": [
    "# Data preprocessing"
   ]
  },
  {
   "cell_type": "code",
   "execution_count": 3,
   "id": "22fe87f8",
   "metadata": {},
   "outputs": [],
   "source": [
    "# scale data to obtain data between [0, 1]\n",
    "user_test, train, test_val = (train[0][:10] / 255.0, train[1][:10]), \\\n",
    "                           (train[0][10:] / 255.0, train[1][10:]), \\\n",
    "                           (test_val[0] / 255.0, test_val[1])"
   ]
  },
  {
   "cell_type": "code",
   "execution_count": 4,
   "id": "e140fa7e",
   "metadata": {},
   "outputs": [],
   "source": [
    "# split test_val into validation, and test\n",
    "VAL2TEST_RATIO = 0.6\n",
    "NUM_VAL = int(test_val[0].shape[0] * VAL2TEST_RATIO)\n",
    "validation = (test_val[0][:NUM_VAL,:,:], test_val[1][:NUM_VAL,])\n",
    "test = (test_val[0][NUM_VAL:,:,:], test_val[1][NUM_VAL:,])"
   ]
  },
  {
   "cell_type": "code",
   "execution_count": 5,
   "id": "a6dd4900",
   "metadata": {},
   "outputs": [],
   "source": [
    "# shuffle and batch data\n",
    "BUFFER_SIZE = 10000\n",
    "BATCH_SIZE = 50\n",
    "\n",
    "train_ds = tf.data.Dataset.from_tensor_slices(train).shuffle(BUFFER_SIZE).batch(BATCH_SIZE)\n",
    "validation_ds = tf.data.Dataset.from_tensor_slices(validation).batch(validation[0].shape[0])\n",
    "test_ds = tf.data.Dataset.from_tensor_slices(test).batch(test[0].shape[0])\n",
    "user_ds = tf.data.Dataset.from_tensor_slices(user_test).batch(user_test[0].shape[0])"
   ]
  },
  {
   "cell_type": "markdown",
   "id": "45fc076e",
   "metadata": {},
   "source": [
    "# Build model"
   ]
  },
  {
   "cell_type": "code",
   "execution_count": 6,
   "id": "f46123de",
   "metadata": {},
   "outputs": [],
   "source": [
    "input_shape = (28, 28, 1)\n",
    "output_size = 10\n",
    "hidden_layer_size = 100\n",
    "\n",
    "model = tf.keras.Sequential([\n",
    "    tf.keras.layers.Flatten(input_shape=input_shape, name=\"flatten\"),\n",
    "    tf.keras.layers.Dense(hidden_layer_size, activation='relu'),\n",
    "    tf.keras.layers.Dense(hidden_layer_size, activation='relu'),\n",
    "    tf.keras.layers.Dense(output_size, activation='softmax', name='last_layer')\n",
    "])"
   ]
  },
  {
   "cell_type": "code",
   "execution_count": 7,
   "id": "a5756867",
   "metadata": {},
   "outputs": [],
   "source": [
    "loss_object = tf.keras.losses.SparseCategoricalCrossentropy(from_logits=False)\n",
    "\n",
    "model.compile(optimizer='adam', loss=loss_object, metrics=['accuracy'])"
   ]
  },
  {
   "cell_type": "code",
   "execution_count": 8,
   "id": "8264f027",
   "metadata": {},
   "outputs": [
    {
     "name": "stdout",
     "output_type": "stream",
     "text": [
      "Epoch 1/10\n",
      "1200/1200 - 4s - loss: 0.2646 - accuracy: 0.9236 - val_loss: 0.1695 - val_accuracy: 0.9477 - 4s/epoch - 3ms/step\n",
      "Epoch 2/10\n",
      "1200/1200 - 3s - loss: 0.1129 - accuracy: 0.9662 - val_loss: 0.1275 - val_accuracy: 0.9603 - 3s/epoch - 3ms/step\n",
      "Epoch 3/10\n",
      "1200/1200 - 3s - loss: 0.0781 - accuracy: 0.9763 - val_loss: 0.1199 - val_accuracy: 0.9597 - 3s/epoch - 3ms/step\n",
      "Epoch 4/10\n",
      "1200/1200 - 3s - loss: 0.0614 - accuracy: 0.9800 - val_loss: 0.1184 - val_accuracy: 0.9648 - 3s/epoch - 3ms/step\n",
      "Epoch 5/10\n",
      "1200/1200 - 3s - loss: 0.0492 - accuracy: 0.9843 - val_loss: 0.1138 - val_accuracy: 0.9655 - 3s/epoch - 3ms/step\n",
      "Epoch 6/10\n",
      "1200/1200 - 3s - loss: 0.0383 - accuracy: 0.9876 - val_loss: 0.1096 - val_accuracy: 0.9663 - 3s/epoch - 3ms/step\n",
      "Epoch 7/10\n",
      "1200/1200 - 3s - loss: 0.0316 - accuracy: 0.9896 - val_loss: 0.1243 - val_accuracy: 0.9658 - 3s/epoch - 3ms/step\n",
      "Epoch 8/10\n",
      "1200/1200 - 4s - loss: 0.0267 - accuracy: 0.9912 - val_loss: 0.1296 - val_accuracy: 0.9668 - 4s/epoch - 3ms/step\n",
      "Epoch 9/10\n",
      "1200/1200 - 4s - loss: 0.0233 - accuracy: 0.9925 - val_loss: 0.1197 - val_accuracy: 0.9690 - 4s/epoch - 3ms/step\n",
      "Epoch 10/10\n",
      "1200/1200 - 4s - loss: 0.0197 - accuracy: 0.9933 - val_loss: 0.1349 - val_accuracy: 0.9683 - 4s/epoch - 3ms/step\n"
     ]
    },
    {
     "data": {
      "text/plain": [
       "<keras.callbacks.History at 0x19dcca68fa0>"
      ]
     },
     "execution_count": 8,
     "metadata": {},
     "output_type": "execute_result"
    }
   ],
   "source": [
    "NUM_EPOCHS = 10\n",
    "\n",
    "model.fit(train_ds, epochs=NUM_EPOCHS, validation_data=validation_ds, verbose=2)"
   ]
  },
  {
   "cell_type": "code",
   "execution_count": 9,
   "id": "505a2e4b",
   "metadata": {},
   "outputs": [
    {
     "name": "stdout",
     "output_type": "stream",
     "text": [
      "INFO:tensorflow:Assets written to: model_2\\assets\n"
     ]
    }
   ],
   "source": [
    "save_path = os.path.join(\"model_2\")\n",
    "tf.saved_model.save(model, save_path)"
   ]
  },
  {
   "cell_type": "markdown",
   "id": "4d4f00fa",
   "metadata": {},
   "source": [
    "# model evaluate"
   ]
  },
  {
   "cell_type": "code",
   "execution_count": 10,
   "id": "fae1efba",
   "metadata": {},
   "outputs": [],
   "source": [
    "my_model = tf.saved_model.load(\"./model_2\")"
   ]
  },
  {
   "cell_type": "code",
   "execution_count": 11,
   "id": "876d31e0",
   "metadata": {
    "scrolled": false
   },
   "outputs": [],
   "source": [
    "prediction = my_model.signatures[\"serving_default\"]"
   ]
  },
  {
   "cell_type": "code",
   "execution_count": 12,
   "id": "f20f060a",
   "metadata": {},
   "outputs": [
    {
     "data": {
      "text/plain": [
       "({'last_layer': <tf.Tensor: shape=(1, 10), dtype=float32, numpy=\n",
       "  array([[1.0450383e-14, 2.8049621e-08, 3.5840955e-10, 1.7918159e-01,\n",
       "          1.3730888e-20, 8.2081836e-01, 4.5585274e-18, 3.0990164e-09,\n",
       "          4.0964397e-13, 4.8129962e-09]], dtype=float32)>},\n",
       " 5)"
      ]
     },
     "execution_count": 12,
     "metadata": {},
     "output_type": "execute_result"
    }
   ],
   "source": [
    "# expected: TensorSpec(shape=(None, 28, 28, 1), dtype=tf.float32, name='flatten_input')\n",
    "user_input = tf.convert_to_tensor(user_test[0][0], np.float32)\n",
    "prediction(flatten_input=user_input), user_test[1][0]"
   ]
  },
  {
   "cell_type": "code",
   "execution_count": null,
   "id": "bd2ef52e",
   "metadata": {},
   "outputs": [],
   "source": []
  }
 ],
 "metadata": {
  "kernelspec": {
   "display_name": "Python [conda env:ml_deploy]",
   "language": "python",
   "name": "conda-env-ml_deploy-py"
  },
  "language_info": {
   "codemirror_mode": {
    "name": "ipython",
    "version": 3
   },
   "file_extension": ".py",
   "mimetype": "text/x-python",
   "name": "python",
   "nbconvert_exporter": "python",
   "pygments_lexer": "ipython3",
   "version": "3.9.16"
  }
 },
 "nbformat": 4,
 "nbformat_minor": 5
}
