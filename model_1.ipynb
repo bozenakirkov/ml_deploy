{
 "cells": [
  {
   "cell_type": "code",
   "execution_count": 1,
   "id": "48e4db5c",
   "metadata": {},
   "outputs": [],
   "source": [
    "import tensorflow as tf\n",
    "from tensorflow.keras.layers import Dense, Flatten, Conv2D\n",
    "from tensorflow.keras import Model\n",
    "import numpy as np"
   ]
  },
  {
   "cell_type": "code",
   "execution_count": 2,
   "id": "ae74747b",
   "metadata": {},
   "outputs": [],
   "source": [
    "mnist = tf.keras.datasets.mnist"
   ]
  },
  {
   "cell_type": "code",
   "execution_count": 3,
   "id": "8b2b55f5",
   "metadata": {},
   "outputs": [],
   "source": [
    "(x_train, y_train), (x_test, y_test) = mnist.load_data()\n",
    "x_train, x_test = x_train / 255.0, x_test / 255.0"
   ]
  },
  {
   "cell_type": "code",
   "execution_count": 4,
   "id": "2adbd2ed",
   "metadata": {},
   "outputs": [],
   "source": [
    "# Add a channels dimension\n",
    "x_train = x_train[..., tf.newaxis].astype(\"float32\")\n",
    "x_test = x_test[..., tf.newaxis].astype(\"float32\")"
   ]
  },
  {
   "cell_type": "code",
   "execution_count": 5,
   "id": "90267282",
   "metadata": {},
   "outputs": [],
   "source": [
    "num_img = [0, 10, 150, 1000]\n",
    "\n",
    "for n in num_img:\n",
    "    np.savez('./tests/test_data/test_img_'+str(n), inputs=x_train[n,:,:,:], targets=y_train[n])"
   ]
  },
  {
   "cell_type": "code",
   "execution_count": 6,
   "id": "cbf84395",
   "metadata": {},
   "outputs": [],
   "source": [
    "train_ds = tf.data.Dataset.from_tensor_slices(\n",
    "    (x_train, y_train)).shuffle(10000).batch(32)\n",
    "\n",
    "test_ds = tf.data.Dataset.from_tensor_slices((x_test, y_test)).batch(32)"
   ]
  },
  {
   "cell_type": "code",
   "execution_count": 7,
   "id": "dc2fd9aa",
   "metadata": {},
   "outputs": [],
   "source": [
    "class MyModel(Model):\n",
    "    def __init__(self):\n",
    "        super(MyModel, self).__init__()\n",
    "        self.conv1 = Conv2D(32, 3, activation='relu')\n",
    "        self.flatten = Flatten()\n",
    "        self.d1 = Dense(128, activation='relu')\n",
    "        self.d2 = Dense(10)\n",
    "\n",
    "    def call(self, x):\n",
    "        x = self.conv1(x)\n",
    "        x = self.flatten(x)\n",
    "        x = self.d1(x)\n",
    "        return self.d2(x)\n",
    "\n",
    "# Create an instance of the model\n",
    "model = MyModel()"
   ]
  },
  {
   "cell_type": "code",
   "execution_count": 8,
   "id": "b55bdffd",
   "metadata": {},
   "outputs": [],
   "source": [
    "loss_object = tf.keras.losses.SparseCategoricalCrossentropy(from_logits=True)\n",
    "\n",
    "optimizer = tf.keras.optimizers.Adam()"
   ]
  },
  {
   "cell_type": "code",
   "execution_count": 9,
   "id": "6341a1ad",
   "metadata": {},
   "outputs": [],
   "source": [
    "train_loss = tf.keras.metrics.Mean(name='train_loss')\n",
    "train_accuracy = tf.keras.metrics.SparseCategoricalAccuracy(name='train_accuracy')\n",
    "\n",
    "test_loss = tf.keras.metrics.Mean(name='test_loss')\n",
    "test_accuracy = tf.keras.metrics.SparseCategoricalAccuracy(name='test_accuracy')"
   ]
  },
  {
   "cell_type": "code",
   "execution_count": 10,
   "id": "9ba67313",
   "metadata": {},
   "outputs": [],
   "source": [
    "@tf.function\n",
    "def train_step(images, labels):\n",
    "    with tf.GradientTape() as tape:\n",
    "    # training=True is only needed if there are layers with different\n",
    "    # behavior during training versus inference (e.g. Dropout).\n",
    "        predictions = model(images, training=True)\n",
    "        loss = loss_object(labels, predictions)\n",
    "    gradients = tape.gradient(loss, model.trainable_variables)\n",
    "    optimizer.apply_gradients(zip(gradients, model.trainable_variables))\n",
    "\n",
    "    train_loss(loss)\n",
    "    train_accuracy(labels, predictions)"
   ]
  },
  {
   "cell_type": "code",
   "execution_count": 11,
   "id": "31e80d0a",
   "metadata": {},
   "outputs": [],
   "source": [
    "@tf.function\n",
    "def test_step(images, labels):\n",
    "    # training=False is only needed if there are layers with different\n",
    "    # behavior during training versus inference (e.g. Dropout).\n",
    "    predictions = model(images, training=False)\n",
    "    t_loss = loss_object(labels, predictions)\n",
    "\n",
    "    test_loss(t_loss)\n",
    "    test_accuracy(labels, predictions)"
   ]
  },
  {
   "cell_type": "code",
   "execution_count": 12,
   "id": "727e0a76",
   "metadata": {},
   "outputs": [
    {
     "name": "stdout",
     "output_type": "stream",
     "text": [
      "Epoch 1, Loss: 0.13490030169487, Accuracy: 95.90833282470703, Test Loss: 0.06273974478244781, Test Accuracy: 97.93000030517578\n",
      "Epoch 2, Loss: 0.04264363273978233, Accuracy: 98.66500091552734, Test Loss: 0.04965224117040634, Test Accuracy: 98.43000030517578\n",
      "Epoch 3, Loss: 0.022941285744309425, Accuracy: 99.25, Test Loss: 0.05311853811144829, Test Accuracy: 98.5\n",
      "Epoch 4, Loss: 0.014209205284714699, Accuracy: 99.50666809082031, Test Loss: 0.06269436329603195, Test Accuracy: 98.12999725341797\n",
      "Epoch 5, Loss: 0.00985630415380001, Accuracy: 99.6683349609375, Test Loss: 0.06830089539289474, Test Accuracy: 98.25999450683594\n"
     ]
    }
   ],
   "source": [
    "EPOCHS = 5\n",
    "\n",
    "for epoch in range(EPOCHS):\n",
    "  # Reset the metrics at the start of the next epoch\n",
    "    train_loss.reset_states()\n",
    "    train_accuracy.reset_states()\n",
    "    test_loss.reset_states()\n",
    "    test_accuracy.reset_states()\n",
    "\n",
    "    for images, labels in train_ds:\n",
    "        train_step(images, labels)\n",
    "\n",
    "    for test_images, test_labels in test_ds:\n",
    "        test_step(test_images, test_labels)\n",
    "\n",
    "    print(\n",
    "    f'Epoch {epoch + 1}, '\n",
    "    f'Loss: {train_loss.result()}, '\n",
    "    f'Accuracy: {train_accuracy.result() * 100}, '\n",
    "    f'Test Loss: {test_loss.result()}, '\n",
    "    f'Test Accuracy: {test_accuracy.result() * 100}'\n",
    "    )"
   ]
  },
  {
   "cell_type": "code",
   "execution_count": 13,
   "id": "7552625d",
   "metadata": {},
   "outputs": [
    {
     "name": "stderr",
     "output_type": "stream",
     "text": [
      "WARNING:absl:Found untraced functions such as _jit_compiled_convolution_op while saving (showing 1 of 1). These functions will not be directly callable after loading.\n"
     ]
    },
    {
     "name": "stdout",
     "output_type": "stream",
     "text": [
      "INFO:tensorflow:Assets written to: ./ml_deploy/model_1\\assets\n"
     ]
    },
    {
     "name": "stderr",
     "output_type": "stream",
     "text": [
      "INFO:tensorflow:Assets written to: ./ml_deploy/model_1\\assets\n"
     ]
    }
   ],
   "source": [
    "tf.saved_model.save(model, \"./model_1\")"
   ]
  },
  {
   "cell_type": "code",
   "execution_count": 14,
   "id": "fd5508f1",
   "metadata": {},
   "outputs": [],
   "source": [
    "test_img_0_data = np.load('./tests/test_data/test_img_0.npz')\n",
    "test_img_10_data = np.load('./tests/test_data/test_img_10.npz')\n",
    "test_img_150_data = np.load('./tests/test_data/test_img_150.npz')\n",
    "test_img_1000_data = np.load('./tests/test_data/test_img_150.npz')"
   ]
  },
  {
   "cell_type": "code",
   "execution_count": 15,
   "id": "3752af02",
   "metadata": {},
   "outputs": [
    {
     "name": "stdout",
     "output_type": "stream",
     "text": [
      "1/1 [==============================] - 0s 138ms/step\n"
     ]
    },
    {
     "data": {
      "text/plain": [
       "(array(5, dtype=uint8),\n",
       " array([[-16.904186 ,  -7.5240507, -12.797028 ,  10.434648 , -15.1880665,\n",
       "          23.266314 , -11.265102 , -12.165691 ,  -1.6101601,  -0.7997578]],\n",
       "       dtype=float32))"
      ]
     },
     "execution_count": 15,
     "metadata": {},
     "output_type": "execute_result"
    }
   ],
   "source": [
    "test_img_0_data[\"targets\"], model.predict(tf.expand_dims(test_img_0_data[\"inputs\"], axis=0) )"
   ]
  },
  {
   "cell_type": "code",
   "execution_count": 16,
   "id": "23e3c2a3",
   "metadata": {
    "scrolled": false
   },
   "outputs": [
    {
     "name": "stdout",
     "output_type": "stream",
     "text": [
      "1/1 [==============================] - 0s 57ms/step\n"
     ]
    },
    {
     "data": {
      "text/plain": [
       "(array(3, dtype=uint8),\n",
       " array([[-11.523441 ,   1.191479 , -10.111725 ,  20.55771  , -15.028469 ,\n",
       "           2.7588878, -19.147858 ,  -9.39563  ,  -4.1029577,   4.372966 ]],\n",
       "       dtype=float32))"
      ]
     },
     "execution_count": 16,
     "metadata": {},
     "output_type": "execute_result"
    }
   ],
   "source": [
    "test_img_10_data[\"targets\"], model.predict(tf.expand_dims(test_img_10_data[\"inputs\"], axis=0) )"
   ]
  },
  {
   "cell_type": "code",
   "execution_count": 17,
   "id": "2ff5f2c8",
   "metadata": {},
   "outputs": [
    {
     "name": "stdout",
     "output_type": "stream",
     "text": [
      "1/1 [==============================] - 0s 54ms/step\n"
     ]
    },
    {
     "data": {
      "text/plain": [
       "(array(4, dtype=uint8),\n",
       " array([[-11.586139 ,   0.8064519,  -5.961307 , -10.740945 ,  16.312996 ,\n",
       "          -7.296178 ,  -8.109695 ,   2.181644 , -13.01488  ,  -2.6902046]],\n",
       "       dtype=float32))"
      ]
     },
     "execution_count": 17,
     "metadata": {},
     "output_type": "execute_result"
    }
   ],
   "source": [
    "test_img_150_data[\"targets\"], model.predict(tf.expand_dims(test_img_150_data[\"inputs\"], axis=0) )"
   ]
  },
  {
   "cell_type": "code",
   "execution_count": 18,
   "id": "889b2f16",
   "metadata": {},
   "outputs": [
    {
     "name": "stdout",
     "output_type": "stream",
     "text": [
      "1/1 [==============================] - 0s 49ms/step\n"
     ]
    },
    {
     "data": {
      "text/plain": [
       "(array(4, dtype=uint8),\n",
       " array([[-11.586139 ,   0.8064519,  -5.961307 , -10.740945 ,  16.312996 ,\n",
       "          -7.296178 ,  -8.109695 ,   2.181644 , -13.01488  ,  -2.6902046]],\n",
       "       dtype=float32))"
      ]
     },
     "execution_count": 18,
     "metadata": {},
     "output_type": "execute_result"
    }
   ],
   "source": [
    "test_img_1000_data[\"targets\"], model.predict(tf.expand_dims(test_img_1000_data[\"inputs\"], axis=0) )"
   ]
  },
  {
   "cell_type": "code",
   "execution_count": null,
   "id": "99a0b9b3",
   "metadata": {},
   "outputs": [],
   "source": []
  }
 ],
 "metadata": {
  "kernelspec": {
   "display_name": "Python [conda env:ml_deploy]",
   "language": "python",
   "name": "conda-env-ml_deploy-py"
  },
  "language_info": {
   "codemirror_mode": {
    "name": "ipython",
    "version": 3
   },
   "file_extension": ".py",
   "mimetype": "text/x-python",
   "name": "python",
   "nbconvert_exporter": "python",
   "pygments_lexer": "ipython3",
   "version": "3.9.16"
  }
 },
 "nbformat": 4,
 "nbformat_minor": 5
}
