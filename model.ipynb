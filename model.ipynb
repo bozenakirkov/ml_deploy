{
 "cells": [
  {
   "cell_type": "code",
   "execution_count": null,
   "id": "b296a88d",
   "metadata": {},
   "outputs": [],
   "source": [
    "import numpy as np\n",
    "import tensorflow as tf\n",
    "import os"
   ]
  },
  {
   "cell_type": "markdown",
   "id": "7a915110",
   "metadata": {},
   "source": [
    "# load data"
   ]
  },
  {
   "cell_type": "code",
   "execution_count": null,
   "id": "ce4c1c97",
   "metadata": {},
   "outputs": [],
   "source": [
    "train, test_val = tf.keras.datasets.mnist.load_data()"
   ]
  },
  {
   "cell_type": "markdown",
   "id": "a84dfde0",
   "metadata": {},
   "source": [
    "# Data preprocessing"
   ]
  },
  {
   "cell_type": "code",
   "execution_count": null,
   "id": "22fe87f8",
   "metadata": {},
   "outputs": [],
   "source": [
    "# scale data to obtain data between [0, 1]\n",
    "user_test, train, test_val = (train[0][:10] / 255.0, train[1][:10]), \\\n",
    "                           (train[0][10:] / 255.0, train[1][10:]), \\\n",
    "                           (test_val[0] / 255.0, test_val[1])"
   ]
  },
  {
   "cell_type": "code",
   "execution_count": null,
   "id": "e140fa7e",
   "metadata": {},
   "outputs": [],
   "source": [
    "# split test_val into validation, and test\n",
    "VAL2TEST_RATIO = 0.6\n",
    "NUM_VAL = int(test_val[0].shape[0] * VAL2TEST_RATIO)\n",
    "validation = (test_val[0][:NUM_VAL,:,:], test_val[1][:NUM_VAL,])\n",
    "test = (test_val[0][NUM_VAL:,:,:], test_val[1][NUM_VAL:,])"
   ]
  },
  {
   "cell_type": "code",
   "execution_count": null,
   "id": "a6dd4900",
   "metadata": {},
   "outputs": [],
   "source": [
    "# shuffle and batch data\n",
    "BUFFER_SIZE = 10000\n",
    "BATCH_SIZE = 50\n",
    "\n",
    "train_ds = tf.data.Dataset.from_tensor_slices(train).shuffle(BUFFER_SIZE).batch(BATCH_SIZE)\n",
    "validation_ds = tf.data.Dataset.from_tensor_slices(validation).batch(validation[0].shape[0])\n",
    "test_ds = tf.data.Dataset.from_tensor_slices(test).batch(test[0].shape[0])\n",
    "user_ds = tf.data.Dataset.from_tensor_slices(user_test).batch(user_test[0].shape[0])"
   ]
  },
  {
   "cell_type": "markdown",
   "id": "45fc076e",
   "metadata": {},
   "source": [
    "# Build model"
   ]
  },
  {
   "cell_type": "code",
   "execution_count": null,
   "id": "f46123de",
   "metadata": {},
   "outputs": [],
   "source": [
    "input_shape = (28, 28, 1)\n",
    "output_size = 10\n",
    "hidden_layer_size = 100\n",
    "\n",
    "model = tf.keras.Sequential([\n",
    "    tf.keras.layers.Flatten(input_shape=input_shape, name=\"flatten\"),\n",
    "    tf.keras.layers.Dense(hidden_layer_size, activation='relu'),\n",
    "    tf.keras.layers.Dense(hidden_layer_size, activation='relu'),\n",
    "    tf.keras.layers.Dense(output_size, activation='softmax', name='last_layer')\n",
    "])"
   ]
  },
  {
   "cell_type": "code",
   "execution_count": null,
   "id": "a5756867",
   "metadata": {},
   "outputs": [],
   "source": [
    "loss_object = tf.keras.losses.SparseCategoricalCrossentropy(from_logits=False)\n",
    "\n",
    "model.compile(optimizer='adam', loss=loss_object, metrics=['accuracy'])"
   ]
  },
  {
   "cell_type": "code",
   "execution_count": null,
   "id": "8264f027",
   "metadata": {},
   "outputs": [],
   "source": [
    "NUM_EPOCHS = 10\n",
    "\n",
    "model.fit(train_ds, epochs=NUM_EPOCHS, validation_data=validation_ds, verbose=2)"
   ]
  },
  {
   "cell_type": "code",
   "execution_count": null,
   "id": "505a2e4b",
   "metadata": {},
   "outputs": [],
   "source": [
    "save_path = os.path.join(\"model_2\")\n",
    "tf.saved_model.save(model, save_path)"
   ]
  },
  {
   "cell_type": "markdown",
   "id": "4d4f00fa",
   "metadata": {},
   "source": [
    "# model evaluate"
   ]
  },
  {
   "cell_type": "code",
   "execution_count": null,
   "id": "fae1efba",
   "metadata": {},
   "outputs": [],
   "source": [
    "my_model = tf.saved_model.load(\"./model_2\")"
   ]
  },
  {
   "cell_type": "code",
   "execution_count": null,
   "id": "876d31e0",
   "metadata": {
    "scrolled": false
   },
   "outputs": [],
   "source": [
    "prediction = my_model.signatures[\"serving_default\"]"
   ]
  },
  {
   "cell_type": "code",
   "execution_count": null,
   "id": "f20f060a",
   "metadata": {},
   "outputs": [],
   "source": [
    "# expected: TensorSpec(shape=(None, 28, 28, 1), dtype=tf.float32, name='flatten_input')\n",
    "user_input = tf.convert_to_tensor(user_test[0][0], np.float32)\n",
    "prediction(flatten_input=user_input), user_test[1][0]"
   ]
  },
  {
   "cell_type": "code",
   "execution_count": null,
   "id": "bd2ef52e",
   "metadata": {},
   "outputs": [],
   "source": []
  }
 ],
 "metadata": {
  "kernelspec": {
   "display_name": "Python [conda env:ml_deploy]",
   "language": "python",
   "name": "conda-env-ml_deploy-py"
  },
  "language_info": {
   "codemirror_mode": {
    "name": "ipython",
    "version": 3
   },
   "file_extension": ".py",
   "mimetype": "text/x-python",
   "name": "python",
   "nbconvert_exporter": "python",
   "pygments_lexer": "ipython3",
   "version": "3.9.16"
  }
 },
 "nbformat": 4,
 "nbformat_minor": 5
}
